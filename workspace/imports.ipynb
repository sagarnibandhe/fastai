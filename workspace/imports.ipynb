{
 "cells": [
  {
   "cell_type": "code",
   "execution_count": 2,
   "metadata": {},
   "outputs": [],
   "source": [
    "from IPython.lib.deepreload import reload as dreload\n",
    "import PIL, os, numpy as np, math, collections, threading, json, bcolz, random, scipy, cv2\n",
    "import pandas as pd, pickle, sys, itertools, string, sys, re, datetime, time, shutil, copy\n",
    "import matplotlib\n",
    "import IPython, graphviz, sklearn_pandas, sklearn, warnings, pdb\n",
    "import contextlib\n",
    "from abc import abstractmethod\n",
    "from glob import glob, iglob\n",
    "from concurrent.futures import ThreadPoolExecutor, ProcessPoolExecutor\n",
    "from itertools import chain\n",
    "from functools import partial\n",
    "from collections import Iterable, Counter, OrderedDict\n",
    "from isoweek import Week\n",
    "from pandas_summary import DataFrameSummary\n",
    "from IPython.lib.display import FileLink\n",
    "from PIL import Image, ImageEnhance, ImageOps\n",
    "from sklearn import metrics, ensemble, preprocessing\n",
    "from operator import itemgetter, attrgetter\n",
    "from pathlib import Path\n",
    "from distutils.version import LooseVersion\n",
    "\n",
    "from matplotlib import pyplot as plt, rcParams, animation\n",
    "from ipywidgets import interact, interactive, fixed, widgets\n",
    "matplotlib.rc('animation', html='html5')\n",
    "np.set_printoptions(precision=5, linewidth=110, suppress=True)\n",
    "\n",
    "from ipykernel.kernelapp import IPKernelApp"
   ]
  },
  {
   "cell_type": "code",
   "execution_count": 3,
   "metadata": {},
   "outputs": [],
   "source": [
    "def in_notebook(): return IPKernelApp.initialized()"
   ]
  },
  {
   "cell_type": "code",
   "execution_count": 4,
   "metadata": {},
   "outputs": [],
   "source": [
    "def in_ipynb():\n",
    "    try:\n",
    "        cls = get_ipython().__class__.__name__\n",
    "        return cls == 'ZMQInteractiveShell'\n",
    "    except NameError:\n",
    "        return False"
   ]
  },
  {
   "cell_type": "code",
   "execution_count": 5,
   "metadata": {},
   "outputs": [],
   "source": [
    "import tqdm as tq\n",
    "from tqdm import tqdm_notebook, tnrange"
   ]
  },
  {
   "cell_type": "code",
   "execution_count": 6,
   "metadata": {},
   "outputs": [],
   "source": [
    "def clear_tqdm():\n",
    "    inst = getattr(tq.tqdm, '_instances', None)\n",
    "    if not inst: return\n",
    "    try:\n",
    "        for i in range(len(inst)): inst.pop().close()\n",
    "    except Exception:\n",
    "        pass"
   ]
  },
  {
   "cell_type": "code",
   "execution_count": 7,
   "metadata": {},
   "outputs": [],
   "source": [
    "if in_notebook():\n",
    "    def tqdm(*args, **kwargs):\n",
    "        clear_tqdm()\n",
    "        return tq.tqdm(*args, file=sys.stdout, **kwargs)\n",
    "    def trange(*args, **kwargs):\n",
    "        clear_tqdm()\n",
    "        return tq.trange(*args, file=sys.stdout, **kwargs)\n",
    "else:\n",
    "    from tqdm import tqdm, trange\n",
    "    tnrange=trange\n",
    "    tqdm_notebook=tqdm"
   ]
  }
 ],
 "metadata": {
  "kernelspec": {
   "display_name": "Python [conda env:fastai] *",
   "language": "python",
   "name": "conda-env-fastai-py"
  },
  "language_info": {
   "codemirror_mode": {
    "name": "ipython",
    "version": 3
   },
   "file_extension": ".py",
   "mimetype": "text/x-python",
   "name": "python",
   "nbconvert_exporter": "python",
   "pygments_lexer": "ipython3",
   "version": "3.7.6"
  }
 },
 "nbformat": 4,
 "nbformat_minor": 2
}
